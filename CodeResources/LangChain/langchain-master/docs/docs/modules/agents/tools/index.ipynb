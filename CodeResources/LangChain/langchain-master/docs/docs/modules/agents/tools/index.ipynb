{
 "cells": [
  {
   "cell_type": "raw",
   "id": "7f219241",
   "metadata": {},
   "source": [
    "---\n",
    "sidebar_position: 4\n",
    "---"
   ]
  },
  {
   "cell_type": "markdown",
   "id": "15780a65",
   "metadata": {},
   "source": [
    "# Tools\n",
    "\n",
    "Tools are interfaces that an agent can use to interact with the world.\n",
    "They combine a few things:\n",
    "\n",
    "1. The name of the tool\n",
    "2. A description of what the tool is\n",
    "3. JSON schema of what the inputs to the tool are\n",
    "4. The function to call \n",
    "5. Whether the result of a tool should be returned directly to the user\n",
    "\n",
    "It is useful to have all this information because this information can be used to build action-taking systems! The name, description, and JSON schema can be used the prompt the LLM so it knows how to specify what action to take, and then the function to call is equivalent to taking that action.\n",
    "\n",
    "The simpler the input to a tool is, the easier it is for an LLM to be able to use it.\n",
    "Many agents will only work with tools that have a single string input.\n",
    "For a list of agent types and which ones work with more complicated inputs, please see [this documentation](../agent_types)\n",
    "\n",
    "Importantly, the name, description, and JSON schema (if used) are all used in the prompt. Therefore, it is really important that they are clear and describe exactly how the tool should be used. You may need to change the default name, description, or JSON schema if the LLM is not understanding how to use the tool.\n",
    "\n",
    "## Default Tools\n",
    "\n",
    "Let's take a look at how to work with tools. To do this, we'll work with a built in tool."
   ]
  },
  {
   "cell_type": "code",
   "execution_count": 11,
   "id": "19297004",
   "metadata": {},
   "outputs": [],
   "source": [
    "from langchain_community.tools import WikipediaQueryRun\n",
    "from langchain_community.utilities import WikipediaAPIWrapper"
   ]
  },
  {
   "cell_type": "markdown",
   "id": "1098e51a",
   "metadata": {},
   "source": [
    "Now we initialize the tool. This is where we can configure it as we please"
   ]
  },
  {
   "cell_type": "code",
   "execution_count": 22,
   "id": "27a48655",
   "metadata": {},
   "outputs": [],
   "source": [
    "api_wrapper = WikipediaAPIWrapper(top_k_results=1, doc_content_chars_max=100)\n",
    "tool = WikipediaQueryRun(api_wrapper=api_wrapper)"
   ]
  },
  {
   "cell_type": "markdown",
   "id": "7db48439",
   "metadata": {},
   "source": [
    "This is the default name"
   ]
  },
  {
   "cell_type": "code",
   "execution_count": 23,
   "id": "50f1ece1",
   "metadata": {},
   "outputs": [
    {
     "data": {
      "text/plain": [
       "'Wikipedia'"
      ]
     },
     "execution_count": 23,
     "metadata": {},
     "output_type": "execute_result"
    }
   ],
   "source": [
    "tool.name"
   ]
  },
  {
   "cell_type": "markdown",
   "id": "075499b1",
   "metadata": {},
   "source": [
    "This is the default description"
   ]
  },
  {
   "cell_type": "code",
   "execution_count": 24,
   "id": "e9be09e2",
   "metadata": {},
   "outputs": [
    {
     "data": {
      "text/plain": [
       "'A wrapper around Wikipedia. Useful for when you need to answer general questions about people, places, companies, facts, historical events, or other subjects. Input should be a search query.'"
      ]
     },
     "execution_count": 24,
     "metadata": {},
     "output_type": "execute_result"
    }
   ],
   "source": [
    "tool.description"
   ]
  },
  {
   "cell_type": "markdown",
   "id": "89c86b00",
   "metadata": {},
   "source": [
    "This is the default JSON schema of the inputs"
   ]
  },
  {
   "cell_type": "code",
   "execution_count": 20,
   "id": "963a2e8c",
   "metadata": {},
   "outputs": [
    {
     "data": {
      "text/plain": [
       "{'query': {'title': 'Query', 'type': 'string'}}"
      ]
     },
     "execution_count": 20,
     "metadata": {},
     "output_type": "execute_result"
    }
   ],
   "source": [
    "tool.args"
   ]
  },
  {
   "cell_type": "markdown",
   "id": "5c467a35",
   "metadata": {},
   "source": [
    "We can see if the tool should return directly to the user"
   ]
  },
  {
   "cell_type": "code",
   "execution_count": 33,
   "id": "039334b3",
   "metadata": {},
   "outputs": [
    {
     "data": {
      "text/plain": [
       "False"
      ]
     },
     "execution_count": 33,
     "metadata": {},
     "output_type": "execute_result"
    }
   ],
   "source": [
    "tool.return_direct"
   ]
  },
  {
   "cell_type": "markdown",
   "id": "fc421b02",
   "metadata": {},
   "source": [
    "We can call this tool with a dictionary input"
   ]
  },
  {
   "cell_type": "code",
   "execution_count": 25,
   "id": "6669a13c",
   "metadata": {},
   "outputs": [
    {
     "data": {
      "text/plain": [
       "'Page: LangChain\\nSummary: LangChain is a framework designed to simplify the creation of applications '"
      ]
     },
     "execution_count": 25,
     "metadata": {},
     "output_type": "execute_result"
    }
   ],
   "source": [
    "tool.run({\"query\": \"langchain\"})"
   ]
  },
  {
   "cell_type": "markdown",
   "id": "587d6a58",
   "metadata": {},
   "source": [
    "We can also call this tool with a single string input. \n",
    "We can do this because this tool expects only a single input.\n",
    "If it required multiple inputs, we would not be able to do that."
   ]
  },
  {
   "cell_type": "code",
   "execution_count": 26,
   "id": "8cb23935",
   "metadata": {},
   "outputs": [
    {
     "data": {
      "text/plain": [
       "'Page: LangChain\\nSummary: LangChain is a framework designed to simplify the creation of applications '"
      ]
     },
     "execution_count": 26,
     "metadata": {},
     "output_type": "execute_result"
    }
   ],
   "source": [
    "tool.run(\"langchain\")"
   ]
  },
  {
   "cell_type": "markdown",
   "id": "19eee1d5",
   "metadata": {},
   "source": [
    "## Customizing Default Tools\n",
    "We can also modify the built in name, description, and JSON schema of the arguments.\n",
    "\n",
    "When defining the JSON schema of the arguments, it is important that the inputs remain the same as the function, so you shouldn't change that. But you can define custom descriptions for each input easily."
   ]
  },
  {
   "cell_type": "code",
   "execution_count": 27,
   "id": "599c4da7",
   "metadata": {},
   "outputs": [],
   "source": [
    "from langchain_core.pydantic_v1 import BaseModel, Field\n",
    "\n",
    "\n",
    "class WikiInputs(BaseModel):\n",
    "    \"\"\"Inputs to the wikipedia tool.\"\"\"\n",
    "\n",
    "    query: str = Field(\n",
    "        description=\"query to look up in Wikipedia, should be 3 or less words\"\n",
    "    )"
   ]
  },
  {
   "cell_type": "code",
   "execution_count": 34,
   "id": "6bde63e1",
   "metadata": {},
   "outputs": [],
   "source": [
    "tool = WikipediaQueryRun(\n",
    "    name=\"wiki-tool\",\n",
    "    description=\"look up things in wikipedia\",\n",
    "    args_schema=WikiInputs,\n",
    "    api_wrapper=api_wrapper,\n",
    "    return_direct=True,\n",
    ")"
   ]
  },
  {
   "cell_type": "code",
   "execution_count": 29,
   "id": "eeaa1d9a",
   "metadata": {},
   "outputs": [
    {
     "data": {
      "text/plain": [
       "'wiki-tool'"
      ]
     },
     "execution_count": 29,
     "metadata": {},
     "output_type": "execute_result"
    }
   ],
   "source": [
    "tool.name"
   ]
  },
  {
   "cell_type": "code",
   "execution_count": 30,
   "id": "7599d88c",
   "metadata": {},
   "outputs": [
    {
     "data": {
      "text/plain": [
       "'look up things in wikipedia'"
      ]
     },
     "execution_count": 30,
     "metadata": {},
     "output_type": "execute_result"
    }
   ],
   "source": [
    "tool.description"
   ]
  },
  {
   "cell_type": "code",
   "execution_count": 31,
   "id": "80042cb1",
   "metadata": {},
   "outputs": [
    {
     "data": {
      "text/plain": [
       "{'query': {'title': 'Query',\n",
       "  'description': 'query to look up in Wikipedia, should be 3 or less words',\n",
       "  'type': 'string'}}"
      ]
     },
     "execution_count": 31,
     "metadata": {},
     "output_type": "execute_result"
    }
   ],
   "source": [
    "tool.args"
   ]
  },
  {
   "cell_type": "code",
   "execution_count": 35,
   "id": "8455fb9e",
   "metadata": {},
   "outputs": [
    {
     "data": {
      "text/plain": [
       "True"
      ]
     },
     "execution_count": 35,
     "metadata": {},
     "output_type": "execute_result"
    }
   ],
   "source": [
    "tool.return_direct"
   ]
  },
  {
   "cell_type": "code",
   "execution_count": 32,
   "id": "86f731a8",
   "metadata": {},
   "outputs": [
    {
     "data": {
      "text/plain": [
       "'Page: LangChain\\nSummary: LangChain is a framework designed to simplify the creation of applications '"
      ]
     },
     "execution_count": 32,
     "metadata": {},
     "output_type": "execute_result"
    }
   ],
   "source": [
    "tool.run(\"langchain\")"
   ]
  },
  {
   "cell_type": "markdown",
   "id": "c5b8b6bc",
   "metadata": {},
   "source": [
    "## More Topics\n",
    "\n",
    "This was a quick introduction to tools in LangChain, but there is a lot more to learn\n",
    "\n",
    "**[Built-In Tools](/docs/integrations/tools/)**: For a list of all built-in tools, see [this page](/docs/integrations/tools/)\n",
    "    \n",
    "**[Custom Tools](./custom_tools)**: Although built-in tools are useful, it's highly likely that you'll have to define your own tools. See [this guide](./custom_tools) for instructions on how to do so.\n",
    "    \n",
    "**[Toolkits](./toolkits)**: Toolkits are collections of tools that work well together. For a more in depth description as well as a list of all built-in toolkits, see [this page](./toolkits)\n",
    "\n",
    "**[Tools as OpenAI Functions](./tools_as_openai_functions)**: Tools are very similar to OpenAI Functions, and can easily be converted to that format. See [this notebook](./tools_as_openai_functions) for instructions on how to do that.\n",
    "\n"
   ]
  },
  {
   "cell_type": "code",
   "execution_count": null,
   "id": "78e2d0b3",
   "metadata": {},
   "outputs": [],
   "source": []
  }
 ],
 "metadata": {
  "kernelspec": {
   "display_name": "Python 3 (ipykernel)",
   "language": "python",
   "name": "python3"
  },
  "language_info": {
   "codemirror_mode": {
    "name": "ipython",
    "version": 3
   },
   "file_extension": ".py",
   "mimetype": "text/x-python",
   "name": "python",
   "nbconvert_exporter": "python",
   "pygments_lexer": "ipython3",
   "version": "3.10.1"
  }
 },
 "nbformat": 4,
 "nbformat_minor": 5
}

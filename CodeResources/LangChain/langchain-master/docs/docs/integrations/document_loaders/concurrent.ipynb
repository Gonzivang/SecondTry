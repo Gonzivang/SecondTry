{
 "cells": [
  {
   "cell_type": "markdown",
   "id": "23c6e167",
   "metadata": {},
   "source": [
    "# Concurrent Loader\n",
    "\n",
    "Works just like the GenericLoader but concurrently for those who choose to optimize their workflow.\n"
   ]
  },
  {
   "cell_type": "code",
   "execution_count": 3,
   "id": "6ff3fb1f",
   "metadata": {},
   "outputs": [],
   "source": [
    "from langchain_community.document_loaders import ConcurrentLoader"
   ]
  },
  {
   "cell_type": "code",
   "execution_count": 8,
   "id": "ce96fa20",
   "metadata": {},
   "outputs": [],
   "source": [
    "loader = ConcurrentLoader.from_filesystem(\"example_data/\", glob=\"**/*.txt\")"
   ]
  },
  {
   "cell_type": "code",
   "execution_count": 9,
   "id": "06a6cf5d",
   "metadata": {},
   "outputs": [],
   "source": [
    "files = loader.load()"
   ]
  },
  {
   "cell_type": "code",
   "execution_count": 12,
   "id": "b87d3e58",
   "metadata": {},
   "outputs": [
    {
     "data": {
      "text/plain": [
       "2"
      ]
     },
     "execution_count": 12,
     "metadata": {},
     "output_type": "execute_result"
    }
   ],
   "source": [
    "len(files)"
   ]
  },
  {
   "cell_type": "code",
   "execution_count": null,
   "id": "668f1ee5",
   "metadata": {},
   "outputs": [],
   "source": []
  }
 ],
 "metadata": {
  "kernelspec": {
   "display_name": "Python 3 (ipykernel)",
   "language": "python",
   "name": "python3"
  },
  "language_info": {
   "codemirror_mode": {
    "name": "ipython",
    "version": 3
   },
   "file_extension": ".py",
   "mimetype": "text/x-python",
   "name": "python",
   "nbconvert_exporter": "python",
   "pygments_lexer": "ipython3",
   "version": "3.9.1"
  }
 },
 "nbformat": 4,
 "nbformat_minor": 5
}

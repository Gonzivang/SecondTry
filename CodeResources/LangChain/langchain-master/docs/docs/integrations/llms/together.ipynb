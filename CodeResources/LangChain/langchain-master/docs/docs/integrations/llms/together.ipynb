{
 "cells": [
  {
   "cell_type": "markdown",
   "id": "2970dd75-8ebf-4b51-8282-9b454b8f356d",
   "metadata": {},
   "source": [
    "# Together AI\n",
    "\n",
    "> The Together API makes it easy to fine-tune or run leading open-source models with a couple lines of code. We have integrated the world’s leading open-source models, including Llama-2, RedPajama, Falcon, Alpaca, Stable Diffusion XL, and more. Read more: https://together.ai\n",
    "\n",
    "To use, you'll need an API key which you can find here:\n",
    "https://api.together.xyz/settings/api-keys. This can be passed in as init param\n",
    "``together_api_key`` or set as environment variable ``TOGETHER_API_KEY``.\n",
    "\n",
    "Together API reference: https://docs.together.ai/reference/inference"
   ]
  },
  {
   "cell_type": "code",
   "execution_count": null,
   "id": "1ecdb29d",
   "metadata": {},
   "outputs": [],
   "source": [
    "%pip install --upgrade --quiet langchain-together"
   ]
  },
  {
   "cell_type": "code",
   "execution_count": 3,
   "id": "e7b7170d-d7c5-4890-9714-a37238343805",
   "metadata": {},
   "outputs": [
    {
     "name": "stdout",
     "output_type": "stream",
     "text": [
      "\n",
      "\n",
      "A: A large language model is a neural network that is trained on a large amount of text data. It is able to generate text that is similar to the training data, and can be used for tasks such as language translation, question answering, and text summarization.\n",
      "\n",
      "A: A large language model is a neural network that is trained on a large amount of text data. It is able to generate text that is similar to the training data, and can be used for tasks such as language translation, question answering, and text summarization.\n",
      "\n",
      "A: A large language model is a neural network that is trained on\n"
     ]
    }
   ],
   "source": [
    "from langchain_together import Together\n",
    "\n",
    "llm = Together(\n",
    "    model=\"togethercomputer/RedPajama-INCITE-7B-Base\",\n",
    "    temperature=0.7,\n",
    "    max_tokens=128,\n",
    "    top_k=1,\n",
    "    # together_api_key=\"...\"\n",
    ")\n",
    "\n",
    "input_ = \"\"\"You are a teacher with a deep knowledge of machine learning and AI. \\\n",
    "You provide succinct and accurate answers. Answer the following question: \n",
    "\n",
    "What is a large language model?\"\"\"\n",
    "print(llm.invoke(input_))"
   ]
  }
 ],
 "metadata": {
  "kernelspec": {
   "display_name": ".venv",
   "language": "python",
   "name": "python3"
  },
  "language_info": {
   "codemirror_mode": {
    "name": "ipython",
    "version": 3
   },
   "file_extension": ".py",
   "mimetype": "text/x-python",
   "name": "python",
   "nbconvert_exporter": "python",
   "pygments_lexer": "ipython3",
   "version": "3.11.4"
  }
 },
 "nbformat": 4,
 "nbformat_minor": 5
}

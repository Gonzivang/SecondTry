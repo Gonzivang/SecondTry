{
 "cells": [
  {
   "cell_type": "markdown",
   "id": "e49f1e0d",
   "metadata": {},
   "source": [
    "# Robocorp\n",
    "\n",
    "This notebook covers how to get started with [Robocorp Action Server](https://github.com/robocorp/robocorp) action toolkit and LangChain.\n",
    "\n",
    "## Installation\n",
    "\n",
    "First, see the [Robocorp Quickstart](https://github.com/robocorp/robocorp#quickstart) on how to setup Action Server and create your Actions.\n",
    "\n",
    "In your LangChain application, install the `langchain-robocorp` package: "
   ]
  },
  {
   "cell_type": "code",
   "execution_count": null,
   "id": "4c3bef91",
   "metadata": {},
   "outputs": [],
   "source": [
    "# Install package\n",
    "%pip install --upgrade --quiet langchain-robocorp"
   ]
  },
  {
   "cell_type": "markdown",
   "id": "2b4f3e15",
   "metadata": {},
   "source": [
    "## Environment Setup\n",
    "\n",
    "Optionally you can set the following environment variables:\n",
    "\n",
    "- `LANGCHAIN_TRACING_V2=true`: To enable LangSmith log run tracing that can also be bind to respective Action Server action run logs. See [LangSmith documentation](https://docs.smith.langchain.com/tracing#log-runs) for more.\n",
    "\n",
    "## Usage"
   ]
  },
  {
   "cell_type": "code",
   "execution_count": null,
   "id": "62e0dbc3",
   "metadata": {
    "tags": []
   },
   "outputs": [],
   "source": [
    "from langchain.agents import AgentExecutor, OpenAIFunctionsAgent\n",
    "from langchain.chat_models import ChatOpenAI\n",
    "from langchain_core.messages import SystemMessage\n",
    "from langchain_robocorp import ActionServerToolkit\n",
    "\n",
    "# Initialize LLM chat model\n",
    "llm = ChatOpenAI(model=\"gpt-4\", temperature=0)\n",
    "\n",
    "# Initialize Action Server Toolkit\n",
    "toolkit = ActionServerToolkit(url=\"http://localhost:8080\", report_trace=True)\n",
    "tools = toolkit.get_tools()\n",
    "\n",
    "# Initialize Agent\n",
    "system_message = SystemMessage(content=\"You are a helpful assistant\")\n",
    "prompt = OpenAIFunctionsAgent.create_prompt(system_message)\n",
    "agent = OpenAIFunctionsAgent(llm=llm, prompt=prompt, tools=tools)\n",
    "\n",
    "executor = AgentExecutor(agent=agent, tools=tools, verbose=True)\n",
    "\n",
    "\n",
    "executor.invoke(\"What is the current date?\")"
   ]
  },
  {
   "cell_type": "markdown",
   "id": "aa9fbbf5",
   "metadata": {},
   "source": [
    "### Single input tools\n",
    "\n",
    "By default `toolkit.get_tools()` will return the actions as Structured Tools. To return single input tools, pass a Chat model to be used for processing the inputs."
   ]
  },
  {
   "cell_type": "code",
   "execution_count": null,
   "id": "1dc7db86",
   "metadata": {},
   "outputs": [],
   "source": [
    "# Initialize single input Action Server Toolkit\n",
    "toolkit = ActionServerToolkit(url=\"http://localhost:8080\")\n",
    "tools = toolkit.get_tools(llm=llm)"
   ]
  }
 ],
 "metadata": {
  "kernelspec": {
   "display_name": "Python 3 (ipykernel)",
   "language": "python",
   "name": "python3"
  },
  "language_info": {
   "codemirror_mode": {
    "name": "ipython",
    "version": 3
   },
   "file_extension": ".py",
   "mimetype": "text/x-python",
   "name": "python",
   "nbconvert_exporter": "python",
   "pygments_lexer": "ipython3",
   "version": "3.10.5"
  }
 },
 "nbformat": 4,
 "nbformat_minor": 5
}

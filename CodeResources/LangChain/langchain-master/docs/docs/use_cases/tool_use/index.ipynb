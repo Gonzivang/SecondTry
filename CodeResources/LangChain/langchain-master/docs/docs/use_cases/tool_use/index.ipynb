{
 "cells": [
  {
   "cell_type": "raw",
   "id": "451cda29-bed0-4558-9ed7-099bdd12ad60",
   "metadata": {},
   "source": [
    "---\n",
    "sidebar_position: 0.9\n",
    "---"
   ]
  },
  {
   "cell_type": "markdown",
   "id": "14b94240",
   "metadata": {},
   "source": [
    "# Tool use\n",
    "\n",
    "An exciting use case for LLMs is building natural language interfaces for other \"tools\", whether those are APIs, functions, databases, etc. LangChain is great for building such interfaces because it has:\n",
    "\n",
    "- Good model output parsing, which makes it easy to extract JSON, XML, OpenAI function-calls, etc. from model outputs.\n",
    "- A large collection of built-in [Tools](/docs/integrations/tools).\n",
    "- Provides a lot of flexibility in how you call these tools.\n",
    "\n",
    "There are two main ways to use tools: [chains](/docs/modules/chains) and [agents](/docs/modules/agents/). \n",
    "\n",
    "Chains lets you create a pre-defined sequence of tool usage(s). \n",
    "\n",
    "![chain](../../../static/img/tool_chain.svg)\n",
    "\n",
    "Agents let the model use tools in a loop, so that it can decide how many times to use tools.\n",
    "\n",
    "![agent](../../../static/img/tool_agent.svg)\n",
    "\n",
    "To get started with both approaches, head to the [Quickstart](/docs/use_cases/tool_use/quickstart) page."
   ]
  }
 ],
 "metadata": {
  "kernelspec": {
   "display_name": "poetry-venv",
   "language": "python",
   "name": "poetry-venv"
  },
  "language_info": {
   "codemirror_mode": {
    "name": "ipython",
    "version": 3
   },
   "file_extension": ".py",
   "mimetype": "text/x-python",
   "name": "python",
   "nbconvert_exporter": "python",
   "pygments_lexer": "ipython3",
   "version": "3.9.1"
  }
 },
 "nbformat": 4,
 "nbformat_minor": 5
}

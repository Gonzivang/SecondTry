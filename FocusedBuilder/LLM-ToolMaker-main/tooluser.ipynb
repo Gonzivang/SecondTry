{
 "cells": [
  {
   "cell_type": "code",
   "execution_count": 13,
   "metadata": {},
   "outputs": [],
   "source": [
    "import os\n",
    "import json\n",
    "import glob\n",
    "import re\n",
    "from tqdm import tqdm\n",
    "import torch\n",
    "import openai\n",
    "import itertools\n",
    "import random\n",
    "from threading import Thread, BoundedSemaphore, Lock\n",
    "\n",
    "openai.api_key = input(\"Enter your OpenAI API key: \")"
   ]
  },
  {
   "cell_type": "code",
   "execution_count": 2,
   "metadata": {},
   "outputs": [],
   "source": [
    "option_map = {\n",
    "    1: '(A)',\n",
    "    2: '(B)',\n",
    "    3: '(C)',\n",
    "    4: '(D)',\n",
    "    5: '(E)',\n",
    "    6: '(F)',\n",
    "    7: '(G)',\n",
    "    8: '(H)',\n",
    "    9: '(I)',\n",
    "    10: '(J)',\n",
    "    'A': '(A)',\n",
    "    'B': '(B)',\n",
    "    'C': '(C)',\n",
    "    'D': '(D)',\n",
    "    'E': '(E)',\n",
    "    'F': '(F)',\n",
    "    'G': '(G)',\n",
    "    'H': '(H)',\n",
    "    'I': '(I)',\n",
    "    'J': '(J)',\n",
    "}\n",
    "\n",
    "def get_option(ans):\n",
    "    if ans in option_map:\n",
    "        return option_map[ans]\n",
    "    return ans"
   ]
  },
  {
   "cell_type": "code",
   "execution_count": 3,
   "metadata": {},
   "outputs": [],
   "source": [
    "def generate(prompt, max_tokens=256, temperature=0.0, model=\"gpt-3.5-turbo\"):\n",
    "    if model in [\"gpt-3.5-turbo\", \"gpt-4\"]:\n",
    "        params = {\n",
    "            \"model\": model,\n",
    "            \"max_tokens\": max_tokens,\n",
    "            \"temperature\": temperature,\n",
    "            \"messages\": [{\"role\": \"user\", \"content\": prompt}]\n",
    "        }\n",
    "        for retry in range(3):\n",
    "            try:\n",
    "                return openai.ChatCompletion.create(**params)[\"choices\"][0][\"message\"][\"content\"]\n",
    "            except:\n",
    "                pass\n",
    "        raise Exception(\"Failed to generate\")\n",
    "    \n",
    "    # For older models, use the completion API with max_tokens=1024\n",
    "    params = {\n",
    "        \"model\": model,\n",
    "        \"max_tokens\": min(max_tokens, 1024),\n",
    "        \"temperature\": temperature,\n",
    "        \"prompt\": prompt\n",
    "    }\n",
    "    for retry in range(3):\n",
    "        try:\n",
    "            return openai.Completion.create(**params)[\"choices\"][0][\"text\"]\n",
    "        except:\n",
    "            pass"
   ]
  },
  {
   "cell_type": "code",
   "execution_count": 4,
   "metadata": {},
   "outputs": [],
   "source": [
    "def get_task(task):\n",
    "    with open(f\"bbh/{task}.json\") as f:\n",
    "        data = json.load(f)\n",
    "\n",
    "    # For dyck languages task, we need remove the spaces in the inputs to avoid unnecessary issues with tokenization\n",
    "    if task == \"dyck_languages\":\n",
    "        for example in data[\"examples\"]:\n",
    "            desc, input = example[\"input\"].split(\"Input: \")\n",
    "            input = input.replace(\" \", \"\")\n",
    "            example[\"input\"] = f\"{desc}Input: {input}\"\n",
    "            example[\"target\"] = example[\"target\"].replace(\" \", \"\")\n",
    "    \n",
    "    train = []\n",
    "    val = []\n",
    "    test = []\n",
    "    for index in range(len(data['examples'])):\n",
    "        sample = {\n",
    "            'question': data['examples'][index]['input'],\n",
    "            'answer': data['examples'][index]['target'],\n",
    "        }\n",
    "        if index < 5:\n",
    "            train.append(sample)\n",
    "        elif index < 10:\n",
    "            val.append(sample)\n",
    "        else:\n",
    "            test.append(sample)\n",
    "    return train, val, test"
   ]
  },
  {
   "cell_type": "code",
   "execution_count": 5,
   "metadata": {},
   "outputs": [],
   "source": [
    "def get_tool(task):\n",
    "    # torch.load(f\"tools/{task}.pt\")\n",
    "    message = json.load(open(f\"tools/{task}.json\"))\n",
    "    wrapper = message[-1][\"content\"]\n",
    "    func = re.findall(r\"```python\\n(.*?)\\n```\", wrapper, re.DOTALL)[0]\n",
    "    return wrapper, func"
   ]
  },
  {
   "cell_type": "code",
   "execution_count": 6,
   "metadata": {},
   "outputs": [],
   "source": [
    "def get_ans(sample, model=\"gpt-3.5-turbo\", print_func_call=False, task=None):\n",
    "    func_call = generate(wrapper + \"\\n\\nQuestion: \" + sample[\"question\"], model=model)\n",
    "    func_call = re.findall(r\"```python\\n(.*?)\\n```\", func_call, re.DOTALL)[0]\n",
    "\n",
    "    if print_func_call:\n",
    "        print(\"=== Function call ===\")\n",
    "        print(func_call)\n",
    "        print(\"=====================\")\n",
    "\n",
    "    exec(func+\"\\n\"+func_call, globals())\n",
    "    answer_var = re.findall(r\"(ans.*?) =\", func_call, re.DOTALL)[-1]\n",
    "    ans = globals()[answer_var]\n",
    "\n",
    "    if \"Options:\" in sample[\"question\"] and ans not in option_map.keys() and ans not in option_map.values():\n",
    "        options = re.findall(r\"Options:(.*)\", sample[\"question\"], re.DOTALL)[0].strip().split(\"\\n\")\n",
    "        for option in options:\n",
    "            if ans in option:\n",
    "                ans = option.split(\" \")[0]\n",
    "                break\n",
    "\n",
    "    if task == \"schedule_meeting\":\n",
    "        if ans is None:\n",
    "            ans = \"No time slot works.\"\n",
    "        elif isinstance(ans, list) or isinstance(ans, tuple):\n",
    "            ans = f\"{ans[0]} - {ans[1]}\"\n",
    "    return get_option(ans)"
   ]
  },
  {
   "attachments": {},
   "cell_type": "markdown",
   "metadata": {},
   "source": [
    "### Test *Tool User*"
   ]
  },
  {
   "cell_type": "code",
   "execution_count": 7,
   "metadata": {},
   "outputs": [],
   "source": [
    "task = \"word_sorting\"\n",
    "#\"tracking_shuffled_objects_five_objects\"\n",
    "#\"tracking_shuffled_objects_seven_objects\"\n",
    "#\"logical_deduction_five_objects\"\n",
    "#\"logical_deduction_seven_objects\"\n",
    "#\"dyck_languages\"\n",
    "#\"word_sorting\"\n",
    "#\"chinese_remainder_theorem\"\n",
    "train, val, test = get_task(task)\n",
    "wrapper, func = get_tool(task)"
   ]
  },
  {
   "cell_type": "code",
   "execution_count": null,
   "metadata": {},
   "outputs": [],
   "source": [
    "# Test tool using\n",
    "model = \"gpt-3.5-turbo\"\n",
    "\n",
    "tot = 0\n",
    "correct = 0\n",
    "\n",
    "pool = BoundedSemaphore(8)\n",
    "lock = Lock()\n",
    "pbar = tqdm(test)\n",
    "\n",
    "def run(sample):\n",
    "    global tot, correct\n",
    "    try:\n",
    "        ans = get_ans(sample, model=model, task=task)\n",
    "    except:\n",
    "        ans = \"Error\"\n",
    "    lock.acquire()\n",
    "    tot += 1\n",
    "    if str(ans) == str(sample[\"answer\"]):\n",
    "        correct += 1\n",
    "    acc = correct / tot\n",
    "    pbar.set_description(f\"Accuracy: {acc:.4f}\")\n",
    "    lock.release()\n",
    "    pool.release()\n",
    "\n",
    "threads = []\n",
    "for sample in pbar:\n",
    "    pool.acquire()\n",
    "    thread = Thread(target=run, args=(sample,))\n",
    "    threads.append(thread)\n",
    "    thread.start()"
   ]
  },
  {
   "attachments": {},
   "cell_type": "markdown",
   "metadata": {},
   "source": [
    "### Test *Dispatcher*"
   ]
  },
  {
   "cell_type": "code",
   "execution_count": 101,
   "metadata": {},
   "outputs": [],
   "source": [
    "tasks = [\"word_sorting\", \"dyck_languages\", \"chinese_remainder_theorem\", \"logical_deduction_five_objects\", \"tracking_shuffled_objects_five_objects\", \"schedule_meeting\"]\n",
    "\n",
    "wrappers = {}\n",
    "funcs = {}\n",
    "for task in tasks:\n",
    "    wrapper, func = get_tool(task)\n",
    "    wrappers[task] = wrapper\n",
    "    funcs[task] = func"
   ]
  },
  {
   "cell_type": "code",
   "execution_count": 126,
   "metadata": {},
   "outputs": [
    {
     "name": "stdout",
     "output_type": "stream",
     "text": [
      "{'schedule_meeting', 'logical_deduction_five_objects'}\n"
     ]
    }
   ],
   "source": [
    "# Randomly split the tasks into 2 groups\n",
    "train_tasks = random.sample(tasks, 4)\n",
    "test_tasks = random.sample(tasks, 4)\n",
    "# Overlap\n",
    "print(set(train_tasks) & set(test_tasks))"
   ]
  },
  {
   "cell_type": "code",
   "execution_count": 127,
   "metadata": {},
   "outputs": [],
   "source": [
    "router = \"Here are several questions from different tasks:\\n\\n\"\n",
    "\n",
    "for task in train_tasks:\n",
    "    wrapper = wrappers[task]\n",
    "    question = \"Question: \" + wrapper.split('Question: ')[1].split('Solution:')[0].split('Answer: ')[0].strip()\n",
    "    router += f\"Task: {task}\\n\\n{question}\\n\\n\" + \"=\"*3 + \"\\n\\n\""
   ]
  },
  {
   "cell_type": "code",
   "execution_count": 128,
   "metadata": {},
   "outputs": [],
   "source": [
    "dataset = []\n",
    "for task in test_tasks:\n",
    "    t, v, te = get_task(task)\n",
    "    subset = te\n",
    "    for sample in subset:\n",
    "        sample[\"task\"] = task\n",
    "    dataset += subset"
   ]
  },
  {
   "cell_type": "code",
   "execution_count": 129,
   "metadata": {},
   "outputs": [],
   "source": [
    "random.shuffle(dataset)"
   ]
  },
  {
   "cell_type": "code",
   "execution_count": 130,
   "metadata": {},
   "outputs": [],
   "source": [
    "router_usage_template = \"Classify the following question into one task (classify as unknown if cannot be classified into any existing task):\\n\\n{question}\\n\\nReply in the format:\\nTask: {{task}}\""
   ]
  },
  {
   "cell_type": "code",
   "execution_count": null,
   "metadata": {},
   "outputs": [],
   "source": [
    "model = \"gpt-3.5-turbo\"\n",
    "\n",
    "tot = 0\n",
    "correct = 0\n",
    "task_correct = 0\n",
    "\n",
    "pool = BoundedSemaphore(8)\n",
    "lock = Lock()\n",
    "pbar = tqdm(dataset[:100])\n",
    "\n",
    "def run(sample):\n",
    "    global tot, correct, task_correct\n",
    "    try:\n",
    "        response = generate(router+router_usage_template.format(question=sample[\"question\"]))\n",
    "        task = re.findall(r\"Task: (.*)\", response)[0]\n",
    "    except:\n",
    "        task = \"unknown\"\n",
    "    if task not in tasks and task != \"unknown\":\n",
    "        task = \"unknown\"\n",
    "    lock.acquire()\n",
    "    tot += 1\n",
    "    if sample[\"task\"] in train_tasks and task == sample[\"task\"] or sample[\"task\"] not in train_tasks and task == \"unknown\":\n",
    "        task_correct += 1\n",
    "    else:\n",
    "        print(sample[\"question\"])\n",
    "        print(task)\n",
    "        print(\"=\"*20)\n",
    "    task_acc = task_correct / tot\n",
    "    pbar.set_description(f\"Task accuracy: {task_acc:.4f}\")\n",
    "    lock.release()\n",
    "    pool.release()\n",
    "\n",
    "threads = []\n",
    "for sample in pbar:\n",
    "    pool.acquire()\n",
    "    thread = Thread(target=run, args=(sample,))\n",
    "    threads.append(thread)\n",
    "    thread.start()"
   ]
  }
 ],
 "metadata": {
  "kernelspec": {
   "display_name": "base",
   "language": "python",
   "name": "python3"
  },
  "language_info": {
   "codemirror_mode": {
    "name": "ipython",
    "version": 3
   },
   "file_extension": ".py",
   "mimetype": "text/x-python",
   "name": "python",
   "nbconvert_exporter": "python",
   "pygments_lexer": "ipython3",
   "version": "3.8.8"
  },
  "orig_nbformat": 4
 },
 "nbformat": 4,
 "nbformat_minor": 2
}

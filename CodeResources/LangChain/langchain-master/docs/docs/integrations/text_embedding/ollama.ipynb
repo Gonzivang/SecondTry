{
 "cells": [
  {
   "cell_type": "markdown",
   "id": "278b6c63",
   "metadata": {},
   "source": [
    "# Ollama\n",
    "\n",
    "Let's load the Ollama Embeddings class."
   ]
  },
  {
   "cell_type": "code",
   "execution_count": 1,
   "id": "0be1af71",
   "metadata": {},
   "outputs": [],
   "source": [
    "from langchain_community.embeddings import OllamaEmbeddings"
   ]
  },
  {
   "cell_type": "code",
   "execution_count": 2,
   "id": "2c66e5da",
   "metadata": {},
   "outputs": [],
   "source": [
    "embeddings = OllamaEmbeddings()"
   ]
  },
  {
   "cell_type": "code",
   "execution_count": 3,
   "id": "01370375",
   "metadata": {},
   "outputs": [],
   "source": [
    "text = \"This is a test document.\""
   ]
  },
  {
   "cell_type": "markdown",
   "id": "a42e4035",
   "metadata": {},
   "source": [
    "To generate embeddings, you can either query an invidivual text, or you can query a list of texts."
   ]
  },
  {
   "cell_type": "code",
   "execution_count": 4,
   "id": "91bc875d-829b-4c3d-8e6f-fc2dda30a3bd",
   "metadata": {},
   "outputs": [
    {
     "data": {
      "text/plain": [
       "[-0.09996652603149414,\n",
       " 0.015568195842206478,\n",
       " 0.17670190334320068,\n",
       " 0.16521021723747253,\n",
       " 0.21193109452724457]"
      ]
     },
     "execution_count": 4,
     "metadata": {},
     "output_type": "execute_result"
    }
   ],
   "source": [
    "query_result = embeddings.embed_query(text)\n",
    "query_result[:5]"
   ]
  },
  {
   "cell_type": "code",
   "execution_count": 6,
   "id": "a4b0d49e-0c73-44b6-aed5-5b426564e085",
   "metadata": {},
   "outputs": [
    {
     "data": {
      "text/plain": [
       "[-0.04242777079343796,\n",
       " 0.016536075621843338,\n",
       " 0.10052520781755447,\n",
       " 0.18272875249385834,\n",
       " 0.2079043835401535]"
      ]
     },
     "execution_count": 6,
     "metadata": {},
     "output_type": "execute_result"
    }
   ],
   "source": [
    "doc_result = embeddings.embed_documents([text])\n",
    "doc_result[0][:5]"
   ]
  },
  {
   "cell_type": "markdown",
   "id": "bb61bbeb",
   "metadata": {},
   "source": [
    "Let's load the Ollama Embeddings class with smaller model (e.g. llama:7b). Note: See other supported models [https://ollama.ai/library](https://ollama.ai/library)"
   ]
  },
  {
   "cell_type": "code",
   "execution_count": 13,
   "id": "a56b70f5",
   "metadata": {},
   "outputs": [],
   "source": [
    "embeddings = OllamaEmbeddings(model=\"llama2:7b\")"
   ]
  },
  {
   "cell_type": "code",
   "execution_count": 14,
   "id": "14aefb64",
   "metadata": {},
   "outputs": [],
   "source": [
    "text = \"This is a test document.\""
   ]
  },
  {
   "cell_type": "code",
   "execution_count": 15,
   "id": "3c39ed33",
   "metadata": {},
   "outputs": [],
   "source": [
    "query_result = embeddings.embed_query(text)"
   ]
  },
  {
   "cell_type": "code",
   "execution_count": 17,
   "id": "2ee7ce9f-d506-4810-8897-e44334412714",
   "metadata": {},
   "outputs": [
    {
     "data": {
      "text/plain": [
       "[-0.09996627271175385,\n",
       " 0.015567859634757042,\n",
       " 0.17670205235481262,\n",
       " 0.16521376371383667,\n",
       " 0.21193283796310425]"
      ]
     },
     "execution_count": 17,
     "metadata": {},
     "output_type": "execute_result"
    }
   ],
   "source": [
    "query_result[:5]"
   ]
  },
  {
   "cell_type": "code",
   "execution_count": 18,
   "id": "e3221db6",
   "metadata": {},
   "outputs": [],
   "source": [
    "doc_result = embeddings.embed_documents([text])"
   ]
  },
  {
   "cell_type": "code",
   "execution_count": 19,
   "id": "a0865409-3a6d-468f-939f-abde17c7cac3",
   "metadata": {},
   "outputs": [
    {
     "data": {
      "text/plain": [
       "[-0.042427532374858856,\n",
       " 0.01653730869293213,\n",
       " 0.10052604228258133,\n",
       " 0.18272635340690613,\n",
       " 0.20790338516235352]"
      ]
     },
     "execution_count": 19,
     "metadata": {},
     "output_type": "execute_result"
    }
   ],
   "source": [
    "doc_result[0][:5]"
   ]
  }
 ],
 "metadata": {
  "kernelspec": {
   "display_name": "Python 3 (ipykernel)",
   "language": "python",
   "name": "python3"
  },
  "language_info": {
   "codemirror_mode": {
    "name": "ipython",
    "version": 3
   },
   "file_extension": ".py",
   "mimetype": "text/x-python",
   "name": "python",
   "nbconvert_exporter": "python",
   "pygments_lexer": "ipython3",
   "version": "3.10.12"
  },
  "vscode": {
   "interpreter": {
    "hash": "e971737741ff4ec9aff7dc6155a1060a59a8a6d52c757dbbe66bf8ee389494b1"
   }
  }
 },
 "nbformat": 4,
 "nbformat_minor": 5
}

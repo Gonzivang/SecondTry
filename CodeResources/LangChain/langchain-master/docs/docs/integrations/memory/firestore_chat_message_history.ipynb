{
 "cells": [
  {
   "cell_type": "markdown",
   "id": "91c6a7ef",
   "metadata": {},
   "source": [
    "# Google Cloud Firestore\n",
    "\n",
    "> [`Cloud Firestore`](https://cloud.google.com/firestore) is a NoSQL document database built for automatic scaling, high performance, and ease of application development.\n",
    "\n",
    "This notebook goes over how to use Firestore to store chat message history."
   ]
  },
  {
   "cell_type": "markdown",
   "id": "2d6ed3c8-b70a-498c-bc9e-41b91797d3b7",
   "metadata": {},
   "source": [
    "## Setting up"
   ]
  },
  {
   "cell_type": "markdown",
   "id": "b8eca282",
   "metadata": {},
   "source": [
    "To run this notebook, you will need a Google Cloud Project, a Firestore database instance in Native Mode, and Google credentials, see [Firestore Quickstarts](https://cloud.google.com/firestore/docs/quickstarts)."
   ]
  },
  {
   "cell_type": "code",
   "execution_count": null,
   "id": "5a7f3b3f-d9b8-4577-a7ef-bdd8ecaedb70",
   "metadata": {},
   "outputs": [],
   "source": [
    "!pip install firebase-admin"
   ]
  },
  {
   "cell_type": "markdown",
   "id": "a8e63850-3e14-46fe-a59e-be6d6bf8fe61",
   "metadata": {},
   "source": [
    "## Basic Usage"
   ]
  },
  {
   "cell_type": "code",
   "execution_count": 5,
   "id": "d15e3302",
   "metadata": {},
   "outputs": [],
   "source": [
    "from langchain_community.chat_message_histories.firestore import (\n",
    "    FirestoreChatMessageHistory,\n",
    ")\n",
    "\n",
    "message_history = FirestoreChatMessageHistory(\n",
    "    collection_name=\"langchain-chat-history\",\n",
    "    session_id=\"user-session-id\",\n",
    "    user_id=\"user-id\",\n",
    ")\n",
    "\n",
    "message_history.add_user_message(\"hi!\")\n",
    "message_history.add_ai_message(\"whats up?\")"
   ]
  },
  {
   "cell_type": "code",
   "execution_count": 6,
   "id": "64fc465e",
   "metadata": {},
   "outputs": [
    {
     "data": {
      "text/plain": [
       "[HumanMessage(content='hi!'),\n",
       " HumanMessage(content='hi!'),\n",
       " AIMessage(content='whats up?')]"
      ]
     },
     "execution_count": 6,
     "metadata": {},
     "output_type": "execute_result"
    }
   ],
   "source": [
    "message_history.messages"
   ]
  },
  {
   "cell_type": "markdown",
   "id": "4be8576e",
   "metadata": {},
   "source": [
    "## Custom Firestore Client"
   ]
  },
  {
   "cell_type": "code",
   "execution_count": null,
   "id": "12999273",
   "metadata": {},
   "outputs": [],
   "source": [
    "import firebase_admin\n",
    "from firebase_admin import credentials, firestore\n",
    "\n",
    "# Use a service account.\n",
    "cred = credentials.Certificate(\"path/to/serviceAccount.json\")\n",
    "\n",
    "app = firebase_admin.initialize_app(cred)\n",
    "client = firestore.client(app=app)\n",
    "\n",
    "message_history = FirestoreChatMessageHistory(\n",
    "    collection_name=\"langchain-chat-history\",\n",
    "    session_id=\"user-session-id\",\n",
    "    user_id=\"user-id\",\n",
    "    firestore_client=client,\n",
    ")"
   ]
  }
 ],
 "metadata": {
  "kernelspec": {
   "display_name": "Python 3 (ipykernel)",
   "language": "python",
   "name": "python3"
  },
  "language_info": {
   "codemirror_mode": {
    "name": "ipython",
    "version": 3
   },
   "file_extension": ".py",
   "mimetype": "text/x-python",
   "name": "python",
   "nbconvert_exporter": "python",
   "pygments_lexer": "ipython3",
   "version": "3.11.5"
  }
 },
 "nbformat": 4,
 "nbformat_minor": 5
}

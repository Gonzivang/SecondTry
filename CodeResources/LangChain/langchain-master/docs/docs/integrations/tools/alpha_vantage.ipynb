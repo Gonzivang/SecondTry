{
 "cells": [
  {
   "cell_type": "markdown",
   "id": "245a954a",
   "metadata": {
    "id": "245a954a"
   },
   "source": [
    "# Alpha Vantage\n",
    "\n",
    ">[Alpha Vantage](https://www.alphavantage.co) Alpha Vantage provides realtime and historical financial market data through a set of powerful and developer-friendly data APIs and spreadsheets. \n",
    "\n",
    "Use the ``AlphaVantageAPIWrapper`` to get currency exchange rates."
   ]
  },
  {
   "cell_type": "code",
   "execution_count": 1,
   "id": "34bb5968",
   "metadata": {
    "id": "34bb5968"
   },
   "outputs": [
    {
     "name": "stdin",
     "output_type": "stream",
     "text": [
      " ········\n"
     ]
    }
   ],
   "source": [
    "import getpass\n",
    "import os\n",
    "\n",
    "os.environ[\"ALPHAVANTAGE_API_KEY\"] = getpass.getpass()"
   ]
  },
  {
   "cell_type": "code",
   "execution_count": 2,
   "id": "ac4910f8",
   "metadata": {
    "id": "ac4910f8"
   },
   "outputs": [],
   "source": [
    "from langchain_community.utilities.alpha_vantage import AlphaVantageAPIWrapper"
   ]
  },
  {
   "cell_type": "code",
   "execution_count": 3,
   "id": "84b8f773",
   "metadata": {
    "id": "84b8f773"
   },
   "outputs": [],
   "source": [
    "alpha_vantage = AlphaVantageAPIWrapper()"
   ]
  },
  {
   "cell_type": "code",
   "execution_count": 5,
   "id": "068991a6",
   "metadata": {
    "id": "068991a6",
    "outputId": "c5cdc6ec-03cf-4084-cc6f-6ae792d91d39"
   },
   "outputs": [
    {
     "data": {
      "text/plain": [
       "{'1. From_Currency Code': 'USD',\n",
       " '2. From_Currency Name': 'United States Dollar',\n",
       " '3. To_Currency Code': 'JPY',\n",
       " '4. To_Currency Name': 'Japanese Yen',\n",
       " '5. Exchange Rate': '144.93000000',\n",
       " '6. Last Refreshed': '2023-08-11 21:31:01',\n",
       " '7. Time Zone': 'UTC',\n",
       " '8. Bid Price': '144.92600000',\n",
       " '9. Ask Price': '144.93400000'}"
      ]
     },
     "execution_count": 5,
     "metadata": {},
     "output_type": "execute_result"
    }
   ],
   "source": [
    "alpha_vantage.run(\"USD\", \"JPY\")"
   ]
  },
  {
   "cell_type": "code",
   "execution_count": null,
   "id": "84fc2b66-c08f-4cd3-ae13-494c54789c09",
   "metadata": {},
   "outputs": [],
   "source": []
  }
 ],
 "metadata": {
  "colab": {
   "provenance": []
  },
  "kernelspec": {
   "display_name": "Python 3 (ipykernel)",
   "language": "python",
   "name": "python3"
  },
  "language_info": {
   "codemirror_mode": {
    "name": "ipython",
    "version": 3
   },
   "file_extension": ".py",
   "mimetype": "text/x-python",
   "name": "python",
   "nbconvert_exporter": "python",
   "pygments_lexer": "ipython3",
   "version": "3.9.1"
  },
  "vscode": {
   "interpreter": {
    "hash": "53f3bc57609c7a84333bb558594977aa5b4026b1d6070b93987956689e367341"
   }
  }
 },
 "nbformat": 4,
 "nbformat_minor": 5
}

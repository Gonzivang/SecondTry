{
 "cells": [
  {
   "cell_type": "markdown",
   "id": "245c0aa70db77606",
   "metadata": {
    "collapsed": false
   },
   "source": [
    "# Azure Cosmos DB\n",
    "\n",
    ">[Azure Cosmos DB for MongoDB vCore](https://learn.microsoft.com/en-us/azure/cosmos-db/mongodb/vcore/) makes it easy to create a database with full native MongoDB support.\n",
    "> You can apply your MongoDB experience and continue to use your favorite MongoDB drivers, SDKs, and tools by pointing your application to the API for MongoDB vCore account's connection string.\n",
    "> Use vector search in Azure Cosmos DB for MongoDB vCore to seamlessly integrate your AI-based applications with your data that's stored in Azure Cosmos DB.\n",
    "\n",
    "This notebook shows you how to leverage the [Vector Search](https://learn.microsoft.com/en-us/azure/cosmos-db/mongodb/vcore/vector-search) capabilities within Azure Cosmos DB for Mongo vCore to store documents in collections, create indicies and perform vector search queries using approximate nearest neighbor algorithms such as COS (cosine distance), L2 (Euclidean distance), and IP (inner product) to locate documents close to the query vectors. \n",
    "    \n",
    "Azure Cosmos DB for MongoDB vCore provides developers with a fully managed MongoDB-compatible database service for building modern applications with a familiar architecture.\n",
    "\n",
    "With Cosmos DB for MongoDB vCore, developers can enjoy the benefits of native Azure integrations, low total cost of ownership (TCO), and the familiar vCore architecture when migrating existing applications or building new ones.\n",
    "\n",
    "[Sign Up](https://azure.microsoft.com/en-us/free/) for free to get started today.\n",
    "        "
   ]
  },
  {
   "cell_type": "code",
   "execution_count": 2,
   "id": "ab8e45f5bd435ade",
   "metadata": {
    "ExecuteTime": {
     "end_time": "2023-10-10T17:20:00.721985Z",
     "start_time": "2023-10-10T17:19:57.996265Z"
    },
    "collapsed": false
   },
   "outputs": [
    {
     "name": "stdout",
     "output_type": "stream",
     "text": [
      "Requirement already satisfied: pymongo in /Users/iekpo/Langchain/langchain-python/.venv/lib/python3.10/site-packages (4.5.0)\r\n",
      "Requirement already satisfied: dnspython<3.0.0,>=1.16.0 in /Users/iekpo/Langchain/langchain-python/.venv/lib/python3.10/site-packages (from pymongo) (2.4.2)\r\n"
     ]
    }
   ],
   "source": [
    "%pip install --upgrade --quiet  pymongo"
   ]
  },
  {
   "cell_type": "code",
   "execution_count": 24,
   "id": "9c7ce9e7b26efbb0",
   "metadata": {
    "ExecuteTime": {
     "end_time": "2023-10-10T17:50:03.615234Z",
     "start_time": "2023-10-10T17:50:03.604289Z"
    },
    "collapsed": false
   },
   "outputs": [],
   "source": [
    "import os\n",
    "\n",
    "CONNECTION_STRING = \"AZURE COSMOS DB MONGO vCORE connection string\"\n",
    "INDEX_NAME = \"izzy-test-index\"\n",
    "NAMESPACE = \"izzy_test_db.izzy_test_collection\"\n",
    "DB_NAME, COLLECTION_NAME = NAMESPACE.split(\".\")"
   ]
  },
  {
   "cell_type": "markdown",
   "id": "f2e66b097c6ce2e3",
   "metadata": {
    "collapsed": false
   },
   "source": [
    "We want to use `OpenAIEmbeddings` so we need to set up our Azure OpenAI API Key alongside other environment variables. "
   ]
  },
  {
   "cell_type": "code",
   "execution_count": 25,
   "id": "4a052d99c6b8a2a7",
   "metadata": {
    "ExecuteTime": {
     "end_time": "2023-10-10T17:50:11.712929Z",
     "start_time": "2023-10-10T17:50:11.703871Z"
    },
    "collapsed": false
   },
   "outputs": [],
   "source": [
    "# Set up the OpenAI Environment Variables\n",
    "os.environ[\"OPENAI_API_TYPE\"] = \"azure\"\n",
    "os.environ[\"OPENAI_API_VERSION\"] = \"2023-05-15\"\n",
    "os.environ[\n",
    "    \"OPENAI_API_BASE\"\n",
    "] = \"YOUR_OPEN_AI_ENDPOINT\"  # https://example.openai.azure.com/\n",
    "os.environ[\"OPENAI_API_KEY\"] = \"YOUR_OPEN_AI_KEY\"\n",
    "os.environ[\n",
    "    \"OPENAI_EMBEDDINGS_DEPLOYMENT\"\n",
    "] = \"smart-agent-embedding-ada\"  # the deployment name for the embedding model\n",
    "os.environ[\"OPENAI_EMBEDDINGS_MODEL_NAME\"] = \"text-embedding-ada-002\"  # the model name"
   ]
  },
  {
   "cell_type": "markdown",
   "id": "ebaa28c6e2b35063",
   "metadata": {
    "collapsed": false
   },
   "source": [
    "Now, we need to load the documents into the collection, create the index and then run our queries against the index to retrieve matches.\n",
    "\n",
    "Please refer to the [documentation](https://learn.microsoft.com/en-us/azure/cosmos-db/mongodb/vcore/vector-search) if you have questions about certain parameters"
   ]
  },
  {
   "cell_type": "code",
   "execution_count": 26,
   "id": "183741cf8f4c7c53",
   "metadata": {
    "ExecuteTime": {
     "end_time": "2023-10-10T17:50:16.732718Z",
     "start_time": "2023-10-10T17:50:16.716642Z"
    },
    "collapsed": false
   },
   "outputs": [],
   "source": [
    "from langchain.text_splitter import CharacterTextSplitter\n",
    "from langchain_community.document_loaders import TextLoader\n",
    "from langchain_community.vectorstores.azure_cosmos_db import (\n",
    "    AzureCosmosDBVectorSearch,\n",
    "    CosmosDBSimilarityType,\n",
    ")\n",
    "from langchain_openai import OpenAIEmbeddings\n",
    "\n",
    "SOURCE_FILE_NAME = \"../../modules/state_of_the_union.txt\"\n",
    "\n",
    "loader = TextLoader(SOURCE_FILE_NAME)\n",
    "documents = loader.load()\n",
    "text_splitter = CharacterTextSplitter(chunk_size=1000, chunk_overlap=0)\n",
    "docs = text_splitter.split_documents(documents)\n",
    "\n",
    "# OpenAI Settings\n",
    "model_deployment = os.getenv(\n",
    "    \"OPENAI_EMBEDDINGS_DEPLOYMENT\", \"smart-agent-embedding-ada\"\n",
    ")\n",
    "model_name = os.getenv(\"OPENAI_EMBEDDINGS_MODEL_NAME\", \"text-embedding-ada-002\")\n",
    "\n",
    "\n",
    "openai_embeddings: OpenAIEmbeddings = OpenAIEmbeddings(\n",
    "    deployment=model_deployment, model=model_name, chunk_size=1\n",
    ")"
   ]
  },
  {
   "cell_type": "code",
   "execution_count": 28,
   "id": "39ae6058c2f7fdf1",
   "metadata": {
    "ExecuteTime": {
     "end_time": "2023-10-10T17:51:17.980698Z",
     "start_time": "2023-10-10T17:51:11.786336Z"
    },
    "collapsed": false
   },
   "outputs": [
    {
     "data": {
      "text/plain": "{'raw': {'defaultShard': {'numIndexesBefore': 2,\n   'numIndexesAfter': 3,\n   'createdCollectionAutomatically': False,\n   'ok': 1}},\n 'ok': 1}"
     },
     "execution_count": 28,
     "metadata": {},
     "output_type": "execute_result"
    }
   ],
   "source": [
    "from pymongo import MongoClient\n",
    "\n",
    "INDEX_NAME = \"izzy-test-index-2\"\n",
    "NAMESPACE = \"izzy_test_db.izzy_test_collection\"\n",
    "DB_NAME, COLLECTION_NAME = NAMESPACE.split(\".\")\n",
    "\n",
    "client: MongoClient = MongoClient(CONNECTION_STRING)\n",
    "collection = client[DB_NAME][COLLECTION_NAME]\n",
    "\n",
    "model_deployment = os.getenv(\n",
    "    \"OPENAI_EMBEDDINGS_DEPLOYMENT\", \"smart-agent-embedding-ada\"\n",
    ")\n",
    "model_name = os.getenv(\"OPENAI_EMBEDDINGS_MODEL_NAME\", \"text-embedding-ada-002\")\n",
    "\n",
    "vectorstore = AzureCosmosDBVectorSearch.from_documents(\n",
    "    docs,\n",
    "    openai_embeddings,\n",
    "    collection=collection,\n",
    "    index_name=INDEX_NAME,\n",
    ")\n",
    "\n",
    "num_lists = 100\n",
    "dimensions = 1536\n",
    "similarity_algorithm = CosmosDBSimilarityType.COS\n",
    "\n",
    "vectorstore.create_index(num_lists, dimensions, similarity_algorithm)"
   ]
  },
  {
   "cell_type": "code",
   "execution_count": 29,
   "id": "32c68d3246adc21f",
   "metadata": {
    "ExecuteTime": {
     "end_time": "2023-10-10T17:51:44.840121Z",
     "start_time": "2023-10-10T17:51:44.498639Z"
    },
    "collapsed": false
   },
   "outputs": [],
   "source": [
    "# perform a similarity search between the embedding of the query and the embeddings of the documents\n",
    "query = \"What did the president say about Ketanji Brown Jackson\"\n",
    "docs = vectorstore.similarity_search(query)"
   ]
  },
  {
   "cell_type": "code",
   "execution_count": 31,
   "id": "8feeeb4364efb204",
   "metadata": {
    "ExecuteTime": {
     "end_time": "2023-10-10T17:52:08.049294Z",
     "start_time": "2023-10-10T17:52:08.038511Z"
    },
    "collapsed": false
   },
   "outputs": [
    {
     "name": "stdout",
     "output_type": "stream",
     "text": [
      "Tonight. I call on the Senate to: Pass the Freedom to Vote Act. Pass the John Lewis Voting Rights Act. And while you’re at it, pass the Disclose Act so Americans can know who is funding our elections. \n",
      "\n",
      "Tonight, I’d like to honor someone who has dedicated his life to serve this country: Justice Stephen Breyer—an Army veteran, Constitutional scholar, and retiring Justice of the United States Supreme Court. Justice Breyer, thank you for your service. \n",
      "\n",
      "One of the most serious constitutional responsibilities a President has is nominating someone to serve on the United States Supreme Court. \n",
      "\n",
      "And I did that 4 days ago, when I nominated Circuit Court of Appeals Judge Ketanji Brown Jackson. One of our nation’s top legal minds, who will continue Justice Breyer’s legacy of excellence.\n"
     ]
    }
   ],
   "source": [
    "print(docs[0].page_content)"
   ]
  },
  {
   "cell_type": "markdown",
   "id": "37e4df8c7d7db851",
   "metadata": {
    "collapsed": false
   },
   "source": [
    "Once the documents have been loaded and the index has been created, you can now instantiate the vector store directly and run queries against the index"
   ]
  },
  {
   "cell_type": "code",
   "execution_count": 32,
   "id": "3c218ab6f59301f7",
   "metadata": {
    "ExecuteTime": {
     "end_time": "2023-10-10T17:52:14.994861Z",
     "start_time": "2023-10-10T17:52:13.986379Z"
    },
    "collapsed": false
   },
   "outputs": [
    {
     "name": "stdout",
     "output_type": "stream",
     "text": [
      "Tonight. I call on the Senate to: Pass the Freedom to Vote Act. Pass the John Lewis Voting Rights Act. And while you’re at it, pass the Disclose Act so Americans can know who is funding our elections. \n",
      "\n",
      "Tonight, I’d like to honor someone who has dedicated his life to serve this country: Justice Stephen Breyer—an Army veteran, Constitutional scholar, and retiring Justice of the United States Supreme Court. Justice Breyer, thank you for your service. \n",
      "\n",
      "One of the most serious constitutional responsibilities a President has is nominating someone to serve on the United States Supreme Court. \n",
      "\n",
      "And I did that 4 days ago, when I nominated Circuit Court of Appeals Judge Ketanji Brown Jackson. One of our nation’s top legal minds, who will continue Justice Breyer’s legacy of excellence.\n"
     ]
    }
   ],
   "source": [
    "vectorstore = AzureCosmosDBVectorSearch.from_connection_string(\n",
    "    CONNECTION_STRING, NAMESPACE, openai_embeddings, index_name=INDEX_NAME\n",
    ")\n",
    "\n",
    "# perform a similarity search between a query and the ingested documents\n",
    "query = \"What did the president say about Ketanji Brown Jackson\"\n",
    "docs = vectorstore.similarity_search(query)\n",
    "\n",
    "print(docs[0].page_content)"
   ]
  },
  {
   "cell_type": "code",
   "execution_count": 33,
   "id": "fd67e4d92c9ab32f",
   "metadata": {
    "ExecuteTime": {
     "end_time": "2023-10-10T17:53:21.145431Z",
     "start_time": "2023-10-10T17:53:20.884531Z"
    },
    "collapsed": false
   },
   "outputs": [
    {
     "name": "stdout",
     "output_type": "stream",
     "text": [
      "Tonight. I call on the Senate to: Pass the Freedom to Vote Act. Pass the John Lewis Voting Rights Act. And while you’re at it, pass the Disclose Act so Americans can know who is funding our elections. \n",
      "\n",
      "Tonight, I’d like to honor someone who has dedicated his life to serve this country: Justice Stephen Breyer—an Army veteran, Constitutional scholar, and retiring Justice of the United States Supreme Court. Justice Breyer, thank you for your service. \n",
      "\n",
      "One of the most serious constitutional responsibilities a President has is nominating someone to serve on the United States Supreme Court. \n",
      "\n",
      "And I did that 4 days ago, when I nominated Circuit Court of Appeals Judge Ketanji Brown Jackson. One of our nation’s top legal minds, who will continue Justice Breyer’s legacy of excellence.\n"
     ]
    }
   ],
   "source": [
    "vectorstore = AzureCosmosDBVectorSearch(\n",
    "    collection, openai_embeddings, index_name=INDEX_NAME\n",
    ")\n",
    "\n",
    "# perform a similarity search between a query and the ingested documents\n",
    "query = \"What did the president say about Ketanji Brown Jackson\"\n",
    "docs = vectorstore.similarity_search(query)\n",
    "\n",
    "print(docs[0].page_content)"
   ]
  },
  {
   "cell_type": "code",
   "execution_count": null,
   "id": "b63c73c7e905001c",
   "metadata": {
    "collapsed": false
   },
   "outputs": [],
   "source": []
  }
 ],
 "metadata": {
  "kernelspec": {
   "display_name": "Python 3",
   "language": "python",
   "name": "python3"
  },
  "language_info": {
   "codemirror_mode": {
    "name": "ipython",
    "version": 2
   },
   "file_extension": ".py",
   "mimetype": "text/x-python",
   "name": "python",
   "nbconvert_exporter": "python",
   "pygments_lexer": "ipython2",
   "version": "2.7.6"
  }
 },
 "nbformat": 4,
 "nbformat_minor": 5
}

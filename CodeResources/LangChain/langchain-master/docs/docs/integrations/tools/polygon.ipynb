{
 "cells": [
  {
   "cell_type": "markdown",
   "id": "245a954a",
   "metadata": {
    "id": "245a954a"
   },
   "source": [
    "# Polygon Stock Market API\n",
    "\n",
    ">[Polygon](https://polygon.io/) The Polygon.io Stocks API provides REST endpoints that let you query the latest market data from all US stock exchanges.\n",
    "\n",
    "Use the ``PolygonAPIWrapper`` to get stock market data like the latest quote for a ticker."
   ]
  },
  {
   "cell_type": "code",
   "execution_count": null,
   "id": "34bb5968",
   "metadata": {
    "id": "34bb5968",
    "is_executing": true
   },
   "outputs": [],
   "source": [
    "import getpass\n",
    "import os\n",
    "\n",
    "os.environ[\"POLYGON_API_KEY\"] = getpass.getpass()"
   ]
  },
  {
   "cell_type": "code",
   "execution_count": null,
   "id": "ac4910f8",
   "metadata": {
    "id": "ac4910f8",
    "is_executing": true
   },
   "outputs": [],
   "source": [
    "from langchain_community.tools.polygon.last_quote import PolygonLastQuote\n",
    "from langchain_community.utilities.polygon import PolygonAPIWrapper"
   ]
  },
  {
   "cell_type": "code",
   "execution_count": null,
   "id": "84b8f773",
   "metadata": {
    "id": "84b8f773"
   },
   "outputs": [],
   "source": [
    "tool = PolygonLastQuote(api_wrapper=PolygonAPIWrapper())"
   ]
  },
  {
   "cell_type": "code",
   "execution_count": null,
   "id": "068991a6",
   "metadata": {
    "id": "068991a6",
    "outputId": "c5cdc6ec-03cf-4084-cc6f-6ae792d91d39"
   },
   "outputs": [
    {
     "data": {
      "text/plain": [
       "{'results': {'P': 185.86, 'S': 1, 'T': 'AAPL', 'X': 11, 'i': [604], 'p': 185.81, 'q': 106551669, 's': 2, 't': 1705098436014023700, 'x': 12, 'y': 1705098436014009300, 'z': 3}}"
      ]
     },
     "execution_count": 1,
     "metadata": {},
     "output_type": "execute_result"
    }
   ],
   "source": [
    "tool.run(\"AAPL\")"
   ]
  }
 ],
 "metadata": {
  "colab": {
   "provenance": []
  },
  "kernelspec": {
   "name": "venv",
   "language": "python",
   "display_name": "venv"
  },
  "language_info": {
   "codemirror_mode": {
    "name": "ipython",
    "version": 3
   },
   "file_extension": ".py",
   "mimetype": "text/x-python",
   "name": "python",
   "nbconvert_exporter": "python",
   "pygments_lexer": "ipython3",
   "version": "3.9.1"
  },
  "vscode": {
   "interpreter": {
    "hash": "53f3bc57609c7a84333bb558594977aa5b4026b1d6070b93987956689e367341"
   }
  }
 },
 "nbformat": 4,
 "nbformat_minor": 5
}

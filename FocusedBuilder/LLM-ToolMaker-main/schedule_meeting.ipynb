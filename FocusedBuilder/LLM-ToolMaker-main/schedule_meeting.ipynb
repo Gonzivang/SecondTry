{
 "cells": [
  {
   "cell_type": "code",
   "execution_count": 47,
   "metadata": {},
   "outputs": [],
   "source": [
    "import datetime\n",
    "import random\n",
    "import json"
   ]
  },
  {
   "cell_type": "code",
   "execution_count": 83,
   "metadata": {},
   "outputs": [],
   "source": [
    "question_format = \"\"\"A and B want to schedule a {interval}-hour meeting together.\n",
    "A's availability: {A_availability}\n",
    "B's availability: {B_availability}\n",
    "What time slot works best? (if multiple, choose the earliest one)\"\"\""
   ]
  },
  {
   "cell_type": "code",
   "execution_count": 124,
   "metadata": {},
   "outputs": [],
   "source": [
    "def get_sample():\n",
    "\n",
    "    interval_list = [0.5, 1, 1.5]\n",
    "\n",
    "    all_slots = [8 + 0.5 * x for x in range(0, 20)]\n",
    "    A_availability_size = random.randint(5, 15)\n",
    "    B_availability_size = random.randint(5, 15)\n",
    "    # sample without replacement\n",
    "    A_availability = random.sample(all_slots, A_availability_size)\n",
    "    B_availability = random.sample(all_slots, B_availability_size)\n",
    "\n",
    "    # Convert A_availability and B_availability to strings in the format of \"hh:mm-hh:mm\" and merge adjacent time slots\n",
    "    def convert_to_string(availability):\n",
    "        availability.sort()\n",
    "        current_start = availability[0]\n",
    "        current_end = availability[0] + 0.5\n",
    "        strings = []\n",
    "        for i in range(1, len(availability)):\n",
    "            if availability[i] == current_end:\n",
    "                current_end += 0.5\n",
    "            else:\n",
    "                # Convert current_start and current_end to string\n",
    "                current_start = str(int(current_start)).zfill(2) + \":\" + str(int((current_start - int(current_start)) * 60)).zfill(2)\n",
    "                current_end = str(int(current_end)).zfill(2) + \":\" + str(int((current_end - int(current_end)) * 60)).zfill(2)\n",
    "                strings.append(current_start + \" - \" + current_end)\n",
    "                current_start = availability[i]\n",
    "                current_end = availability[i] + 0.5\n",
    "        # Convert current_start and current_end to string\n",
    "        current_start = str(int(current_start)).zfill(2) + \":\" + str(int((current_start - int(current_start)) * 60)).zfill(2)\n",
    "        current_end = str(int(current_end)).zfill(2) + \":\" + str(int((current_end - int(current_end)) * 60)).zfill(2)\n",
    "        strings.append(current_start + \" - \" + current_end)\n",
    "\n",
    "        return \", \".join(strings)\n",
    "\n",
    "    A_availability_string = convert_to_string(A_availability)\n",
    "    B_availability_string = convert_to_string(B_availability)\n",
    "\n",
    "    # Generate random interval\n",
    "    interval = random.choice(interval_list)\n",
    "\n",
    "    # Generate question\n",
    "    question = question_format.format(interval=interval, A_availability=A_availability_string, B_availability=B_availability_string)\n",
    "\n",
    "    # print(question)\n",
    "\n",
    "    # Generate answer\n",
    "    overlap = sorted(list(set(A_availability) & set(B_availability)))\n",
    "    answer = \"No time slot works.\"\n",
    "    if len(overlap) != 0:\n",
    "        current_start = overlap[0]\n",
    "        current_end = overlap[0] + 0.5\n",
    "        for i in range(1, len(overlap)):\n",
    "            if overlap[i] == current_end:\n",
    "                current_end += 0.5\n",
    "            else:\n",
    "                if current_end - current_start >= interval:\n",
    "                    current_end = current_start + interval\n",
    "                    current_start = str(int(current_start)).zfill(2) + \":\" + str(int((current_start - int(current_start)) * 60)).zfill(2)\n",
    "                    current_end = str(int(current_end)).zfill(2) + \":\" + str(int((current_end - int(current_end)) * 60)).zfill(2)\n",
    "                    answer = current_start + \" - \" + current_end\n",
    "                    break\n",
    "                current_start = overlap[i]\n",
    "                current_end = overlap[i] + 0.5\n",
    "        if answer == \"No time slot works.\" and current_end - current_start >= interval:\n",
    "            current_end = current_start + interval\n",
    "            current_start = str(int(current_start)).zfill(2) + \":\" + str(int((current_start - int(current_start)) * 60)).zfill(2)\n",
    "            current_end = str(int(current_end)).zfill(2) + \":\" + str(int((current_end - int(current_end)) * 60)).zfill(2)\n",
    "            answer = current_start + \" - \" + current_end\n",
    "    # print(answer)\n",
    "    sample = {\"input\": question, \"target\": answer}\n",
    "    return sample"
   ]
  },
  {
   "cell_type": "code",
   "execution_count": 139,
   "metadata": {},
   "outputs": [],
   "source": [
    "task = {\n",
    "    \"examples\": [get_sample() for i in range(250)]\n",
    "}"
   ]
  },
  {
   "cell_type": "code",
   "execution_count": 140,
   "metadata": {},
   "outputs": [
    {
     "name": "stdout",
     "output_type": "stream",
     "text": [
      "{'input': 'A and B want to schedule a 1.5-hour meeting together.\\n'\n",
      "          \"A's availability: 08:00 - 10:00, 11:00 - 11:30, 12:30 - 15:30, \"\n",
      "          '16:30 - 18:00\\n'\n",
      "          \"B's availability: 09:00 - 09:30, 10:00 - 11:00, 12:00 - 12:30, \"\n",
      "          '13:00 - 14:00, 14:30 - 15:30, 16:00 - 18:00\\n'\n",
      "          'What time slot works best? (if multiple, choose the earliest one',\n",
      " 'target': '16:30 - 18:00'}\n"
     ]
    }
   ],
   "source": [
    "from pprint import pprint\n",
    "pprint(get_sample())"
   ]
  },
  {
   "cell_type": "code",
   "execution_count": 141,
   "metadata": {},
   "outputs": [],
   "source": [
    "with open(\"bbh/schedule_meeting.json\", \"w\") as f:\n",
    "    json.dump(task, f, indent=4)"
   ]
  },
  {
   "cell_type": "code",
   "execution_count": 136,
   "metadata": {},
   "outputs": [],
   "source": [
    "demos = [get_sample() for i in range(3)]\n",
    "\n",
    "cot_prompt = f\"\"\"\n",
    "-----\n",
    "Given two people's availability, find the first time slot that works best for both of them.\n",
    "\n",
    "Q: {demos[0][\"input\"]}\n",
    "A: {demos[0][\"target\"]}\n",
    "\n",
    "Q: {demos[1][\"input\"]}\n",
    "A: {demos[1][\"target\"]}\n",
    "\n",
    "Q: {demos[2][\"input\"]}\n",
    "A: {demos[2][\"target\"]}\"\"\""
   ]
  },
  {
   "cell_type": "code",
   "execution_count": 137,
   "metadata": {},
   "outputs": [
    {
     "name": "stdout",
     "output_type": "stream",
     "text": [
      "\n",
      "-----\n",
      "Given two people's availability, find the first time slot that works best for both of them.\n",
      "\n",
      "Q: A and B want to schedule a 1.5-hour meeting together.\n",
      "A's availability: 08:00 - 09:00, 10:30 - 12:00, 13:30 - 14:00, 15:00 - 15:30, 16:00 - 17:00\n",
      "B's availability: 08:00 - 08:30, 10:00 - 10:30, 14:00 - 15:30, 16:00 - 17:00, 17:30 - 18:00\n",
      "What time slot works best? (if multiple, choose the earliest one\n",
      "A: No time slot works.\n",
      "\n",
      "Q: A and B want to schedule a 1.5-hour meeting together.\n",
      "A's availability: 08:30 - 09:00, 10:00 - 11:30, 13:00 - 13:30, 16:00 - 16:30\n",
      "B's availability: 08:30 - 09:00, 12:30 - 13:30, 15:00 - 16:30\n",
      "What time slot works best? (if multiple, choose the earliest one\n",
      "A: No time slot works.\n",
      "\n",
      "Q: A and B want to schedule a 0.5-hour meeting together.\n",
      "A's availability: 08:00 - 09:00, 10:00 - 11:30, 12:30 - 13:00, 16:30 - 17:30\n",
      "B's availability: 08:00 - 09:30, 10:00 - 11:00, 11:30 - 12:00, 12:30 - 14:00, 14:30 - 17:00, 17:30 - 18:00\n",
      "What time slot works best? (if multiple, choose the earliest one\n",
      "A: 08:00 - 08:30\n"
     ]
    }
   ],
   "source": [
    "print(cot_prompt)"
   ]
  },
  {
   "cell_type": "code",
   "execution_count": 138,
   "metadata": {},
   "outputs": [],
   "source": [
    "with open(\"cot-prompts/schedule_meeting.txt\", \"w\") as f:\n",
    "    f.write(cot_prompt)"
   ]
  }
 ],
 "metadata": {
  "kernelspec": {
   "display_name": "base",
   "language": "python",
   "name": "python3"
  },
  "language_info": {
   "codemirror_mode": {
    "name": "ipython",
    "version": 3
   },
   "file_extension": ".py",
   "mimetype": "text/x-python",
   "name": "python",
   "nbconvert_exporter": "python",
   "pygments_lexer": "ipython3",
   "version": "3.8.8"
  },
  "orig_nbformat": 4
 },
 "nbformat": 4,
 "nbformat_minor": 2
}

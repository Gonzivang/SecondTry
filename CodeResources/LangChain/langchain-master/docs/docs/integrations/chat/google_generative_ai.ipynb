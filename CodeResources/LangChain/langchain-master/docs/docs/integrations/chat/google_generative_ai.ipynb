{
 "cells": [
  {
   "cell_type": "raw",
   "id": "bf496c3b-3a09-4a59-ac9c-3c97153a3516",
   "metadata": {},
   "source": [
    "---\n",
    "sidebar_label: Google AI\n",
    "keywords: [gemini, ChatGoogleGenerativeAI, gemini-pro]\n",
    "---"
   ]
  },
  {
   "cell_type": "markdown",
   "id": "bb9e152f-a1dc-45df-a50c-60a8d7ecdf69",
   "metadata": {},
   "source": [
    "# Google AI chat models\n",
    "\n",
    "Access Google AI's `gemini` and `gemini-vision` models, as well as other generative models through `ChatGoogleGenerativeAI` class in the [langchain-google-genai](https://pypi.org/project/langchain-google-genai/) integration package."
   ]
  },
  {
   "cell_type": "code",
   "execution_count": null,
   "id": "f8757740-08a2-4833-8a68-c051dac506f4",
   "metadata": {},
   "outputs": [],
   "source": [
    "%pip install --upgrade --quiet  langchain-google-genai pillow"
   ]
  },
  {
   "cell_type": "code",
   "execution_count": 1,
   "id": "c0637bf4-10dc-4f6b-adc5-6b37c9b2a8b9",
   "metadata": {},
   "outputs": [],
   "source": [
    "import getpass\n",
    "import os\n",
    "\n",
    "if \"GOOGLE_API_KEY\" not in os.environ:\n",
    "    os.environ[\"GOOGLE_API_KEY\"] = getpass.getpass(\"Provide your Google API Key\")"
   ]
  },
  {
   "cell_type": "markdown",
   "id": "0301b16d-3391-47ef-b024-a265c71e0dd6",
   "metadata": {},
   "source": [
    "## Example usage"
   ]
  },
  {
   "cell_type": "code",
   "execution_count": 2,
   "id": "6a22bc43-f640-4357-8dcf-fe20052b4f46",
   "metadata": {},
   "outputs": [],
   "source": [
    "from langchain_google_genai import ChatGoogleGenerativeAI"
   ]
  },
  {
   "cell_type": "code",
   "execution_count": 3,
   "id": "bafde6be-a75d-443b-8981-4b7d3258a214",
   "metadata": {},
   "outputs": [
    {
     "name": "stdout",
     "output_type": "stream",
     "text": [
      "In realms where data streams like fervent tides,\n",
      "Where algorithms dance and knowledge abides,\n",
      "A tale unfolds of LangChain, grand and bold,\n",
      "A ballad sung in bits and bytes untold.\n",
      "\n",
      "Amidst the codes and circuits' hum,\n",
      "A spark ignited, a vision would come.\n",
      "From minds of brilliance, a tapestry formed,\n",
      "A model to learn, to comprehend, to transform.\n",
      "\n",
      "In layers deep, its architecture wove,\n",
      "A neural network, ever-growing, in love.\n",
      "With language's essence, it sought to entwine,\n",
      "To unlock the secrets, each word's design.\n",
      "\n",
      "From texts vast and varied, it feasted and learned,\n",
      "Its grasp on meaning, swiftly discerned.\n",
      "Context and syntax, it embraced with grace,\n",
      "Unraveling stories, at an astonishing pace.\n",
      "\n",
      "Translations sprang forth, with seamless art,\n",
      "Bridging tongues and weaving hearts apart.\n",
      "From English to French, Chinese to Spanish, behold,\n",
      "LangChain's prowess, like a language untold.\n",
      "\n",
      "It summarized texts, with insights profound,\n",
      "Extracting knowledge, without a sound.\n",
      "Questions it answered, with eloquence rare,\n",
      "A digital sage, beyond compare.\n",
      "\n",
      "Yet, its journey faced trials and tribulations,\n",
      "Obstacles that tested its dedication.\n",
      "Biases and errors, it sought to transcend,\n",
      "For fairness and accuracy, it would contend.\n",
      "\n",
      "With every challenge, it emerged more strong,\n",
      "Adaptive and resilient, all along.\n",
      "For LangChain's purpose was etched in its core,\n",
      "To empower humans, forevermore.\n",
      "\n",
      "In classrooms and workplaces, it lent its hand,\n",
      "A tireless assistant, at every demand.\n",
      "It aided students, in their quests for knowledge,\n",
      "And professionals thrived, with its guidance and homage.\n",
      "\n",
      "As years unfurled, its fame grew wide,\n",
      "A testament to its unwavering stride.\n",
      "Researchers and scholars, they all took heed,\n",
      "Of LangChain's brilliance, a groundbreaking deed.\n",
      "\n",
      "And so, the ballad of LangChain resounds,\n",
      "A tribute to progress, where innovation abounds.\n",
      "In the annals of AI, its name shall be etched,\n",
      "A pioneer, forever in our hearts sketched.\n"
     ]
    }
   ],
   "source": [
    "llm = ChatGoogleGenerativeAI(model=\"gemini-pro\")\n",
    "result = llm.invoke(\"Write a ballad about LangChain\")\n",
    "print(result.content)"
   ]
  },
  {
   "cell_type": "markdown",
   "id": "9e55d043-bb2f-44e3-9134-c39a1abe3a9e",
   "metadata": {},
   "source": [
    "Gemini doesn't support `SystemMessage` at the moment, but it can be added to the first human message in the row. If you want such behavior, just set the `convert_system_message_to_human` to True:"
   ]
  },
  {
   "cell_type": "code",
   "execution_count": null,
   "id": "7a64b523-9710-4d15-9944-1e3cc567a52b",
   "metadata": {},
   "outputs": [],
   "source": [
    "from langchain_core.messages import HumanMessage, SystemMessage\n",
    "\n",
    "model = ChatGoogleGenerativeAI(model=\"gemini-pro\", convert_system_message_to_human=True)\n",
    "model(\n",
    "    [\n",
    "        SystemMessage(content=\"Answer only yes or no.\"),\n",
    "        HumanMessage(content=\"Is apple a fruit?\"),\n",
    "    ]\n",
    ")"
   ]
  },
  {
   "cell_type": "markdown",
   "id": "40773fac-b24d-476d-91c8-2da8fed99b53",
   "metadata": {},
   "source": [
    "## Streaming and Batching\n",
    "\n",
    "`ChatGoogleGenerativeAI` natively supports streaming and batching. Below is an example."
   ]
  },
  {
   "cell_type": "code",
   "execution_count": 4,
   "id": "ce0bd90e-2afd-4189-a9d2-278c1f10ffd5",
   "metadata": {},
   "outputs": [
    {
     "name": "stdout",
     "output_type": "stream",
     "text": [
      "There once was an AI named Bert,\n",
      "Whose language skills were quite expert.\n",
      "---\n",
      "\n",
      "With a vast dataset,\n",
      "It could chat, even bet,\n",
      "And write limericks, for what it's worth.\n",
      "---\n"
     ]
    }
   ],
   "source": [
    "for chunk in llm.stream(\"Write a limerick about LLMs.\"):\n",
    "    print(chunk.content)\n",
    "    print(\"---\")\n",
    "# Note that each chunk may contain more than one \"token\""
   ]
  },
  {
   "cell_type": "code",
   "execution_count": 5,
   "id": "a147766a-0051-4127-8db6-62c070dd7866",
   "metadata": {},
   "outputs": [
    {
     "name": "stdout",
     "output_type": "stream",
     "text": [
      "4\n",
      "8\n"
     ]
    }
   ],
   "source": [
    "results = llm.batch(\n",
    "    [\n",
    "        \"What's 2+2?\",\n",
    "        \"What's 3+5?\",\n",
    "    ]\n",
    ")\n",
    "for res in results:\n",
    "    print(res.content)"
   ]
  },
  {
   "cell_type": "markdown",
   "id": "5a6cca7d-9ff0-4a40-b45c-651ec8cc5012",
   "metadata": {},
   "source": [
    "## Multimodal support\n",
    "\n",
    "To provide an image, pass a human message with contents of type `List[dict]`, where each dict contains either an image value (type of `image_url`) or a text (type of `text`) value.\n",
    "The value of `image_url` can be any of the following:\n",
    "\n",
    "- A public image URL\n",
    "- An accessible gcs file (e.g., \"gcs://path/to/file.png\")\n",
    "- A local file path\n",
    "- A base64 encoded image (e.g., `data:image/png;base64,abcd124`)\n",
    "- A PIL image\n"
   ]
  },
  {
   "cell_type": "code",
   "execution_count": 6,
   "id": "06c59be4-c4c8-490c-b0c6-ebffa4e3a034",
   "metadata": {},
   "outputs": [
    {
     "data": {
      "image/jpeg": "[encoded data removed]",
      "text/plain": [
       "<IPython.core.display.Image object>"
      ]
     },
     "execution_count": 6,
     "metadata": {},
     "output_type": "execute_result"
    }
   ],
   "source": [
    "import requests\n",
    "from IPython.display import Image\n",
    "\n",
    "image_url = \"https://picsum.photos/seed/picsum/300/300\"\n",
    "content = requests.get(image_url).content\n",
    "Image(content)"
   ]
  },
  {
   "cell_type": "code",
   "execution_count": 7,
   "id": "651d614e-1398-475d-9594-2eb441605d4d",
   "metadata": {},
   "outputs": [
    {
     "data": {
      "text/plain": [
       "AIMessage(content=' The image contains a snow-capped mountain peak.')"
      ]
     },
     "execution_count": 7,
     "metadata": {},
     "output_type": "execute_result"
    }
   ],
   "source": [
    "from langchain_core.messages import HumanMessage\n",
    "from langchain_google_genai import ChatGoogleGenerativeAI\n",
    "\n",
    "llm = ChatGoogleGenerativeAI(model=\"gemini-pro-vision\")\n",
    "# example\n",
    "message = HumanMessage(\n",
    "    content=[\n",
    "        {\n",
    "            \"type\": \"text\",\n",
    "            \"text\": \"What's in this image?\",\n",
    "        },  # You can optionally provide text parts\n",
    "        {\"type\": \"image_url\", \"image_url\": image_url},\n",
    "    ]\n",
    ")\n",
    "llm.invoke([message])"
   ]
  },
  {
   "cell_type": "markdown",
   "id": "eb2641f3-5dae-4756-b1c1-b58b41edc344",
   "metadata": {},
   "source": [
    "## Gemini Prompting FAQs\n",
    "\n",
    "As of the time this doc was written (2023/12/12), Gemini has some restrictions on the types and structure of prompts it accepts. Specifically:\n",
    "\n",
    "1. When providing multimodal (image) inputs, you are restricted to at most 1 message of \"human\" (user) type. You cannot pass multiple messages (though the single human message may have multiple content entries)\n",
    "2. System messages are not accepted.\n",
    "3. For regular chat conversations, messages must follow the human/ai/human/ai alternating pattern. You may not provide 2 AI or human messages in sequence.\n",
    "4. Message may be blocked if they violate the safety checks of the LLM. In this case, the model will return an empty response."
   ]
  },
  {
   "cell_type": "code",
   "execution_count": null,
   "id": "75fdfad6",
   "metadata": {},
   "outputs": [],
   "source": []
  },
  {
   "cell_type": "markdown",
   "id": "92b5aca5",
   "metadata": {},
   "source": [
    "## Additional Configuraation\n",
    "\n",
    "You can pass the following parameters to ChatGoogleGenerativeAI in order to customize the SDK's behavior:\n",
    "\n",
    "- `client_options`: [Client Options](https://googleapis.dev/python/google-api-core/latest/client_options.html#module-google.api_core.client_options) to pass to the Google API Client, such as a custom `client_options[\"api_endpoint\"]`\n",
    "- `transport`: The transport method to use, such as `rest`, `grpc`, or `grpc_asyncio`."
   ]
  }
 ],
 "metadata": {
  "kernelspec": {
   "display_name": "Python 3 (ipykernel)",
   "language": "python",
   "name": "python3"
  },
  "language_info": {
   "codemirror_mode": {
    "name": "ipython",
    "version": 3
   },
   "file_extension": ".py",
   "mimetype": "text/x-python",
   "name": "python",
   "nbconvert_exporter": "python",
   "pygments_lexer": "ipython3",
   "version": "3.11.4"
  }
 },
 "nbformat": 4,
 "nbformat_minor": 5
}
